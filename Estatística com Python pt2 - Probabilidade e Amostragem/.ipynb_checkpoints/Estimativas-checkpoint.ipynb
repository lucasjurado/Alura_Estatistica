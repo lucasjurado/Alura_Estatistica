{
 "cells": [
  {
   "cell_type": "markdown",
   "metadata": {
    "toc": true
   },
   "source": [
    "<h1>Table of Contents<span class=\"tocSkip\"></span></h1>\n",
    "<div class=\"toc\"><ul class=\"toc-item\"><li><span><a href=\"#CURSO-DE-ESTATÍSTICA---PARTE-2\" data-toc-modified-id=\"CURSO-DE-ESTATÍSTICA---PARTE-2-1\"><span class=\"toc-item-num\">1&nbsp;&nbsp;</span><font color=\"green\" size=\"10\" data-darkreader-inline-color=\"\" style=\"--darkreader-inline-color:#7fff7f;\">CURSO DE ESTATÍSTICA - PARTE 2</font></a></span><ul class=\"toc-item\"><li><span><a href=\"#Trabalho-sobre-Probabilidades,-Amostragem-e-Estimações\" data-toc-modified-id=\"Trabalho-sobre-Probabilidades,-Amostragem-e-Estimações-1.1\"><span class=\"toc-item-num\">1.1&nbsp;&nbsp;</span>Trabalho sobre Probabilidades, Amostragem e Estimações</a></span></li></ul></li><li><span><a href=\"#DATASET-DO-PROJETO\" data-toc-modified-id=\"DATASET-DO-PROJETO-2\"><span class=\"toc-item-num\">2&nbsp;&nbsp;</span><font color=\"green\" data-darkreader-inline-color=\"\" style=\"--darkreader-inline-color:#7fff7f;\">DATASET DO PROJETO</font></a></span><ul class=\"toc-item\"><li><ul class=\"toc-item\"><li><span><a href=\"#Pesquisa-Nacional-por-Amostra-de-Domicílios---2015\" data-toc-modified-id=\"Pesquisa-Nacional-por-Amostra-de-Domicílios---2015-2.0.1\"><span class=\"toc-item-num\">2.0.1&nbsp;&nbsp;</span>Pesquisa Nacional por Amostra de Domicílios - 2015</a></span></li><li><span><a href=\"#Fonte-dos-Dados\" data-toc-modified-id=\"Fonte-dos-Dados-2.0.2\"><span class=\"toc-item-num\">2.0.2&nbsp;&nbsp;</span>Fonte dos Dados</a></span></li><li><span><a href=\"#Variáveis-utilizadas\" data-toc-modified-id=\"Variáveis-utilizadas-2.0.3\"><span class=\"toc-item-num\">2.0.3&nbsp;&nbsp;</span>Variáveis utilizadas</a></span></li><li><span><a href=\"#Renda\" data-toc-modified-id=\"Renda-2.0.4\"><span class=\"toc-item-num\">2.0.4&nbsp;&nbsp;</span>Renda</a></span></li><li><span><a href=\"#Idade\" data-toc-modified-id=\"Idade-2.0.5\"><span class=\"toc-item-num\">2.0.5&nbsp;&nbsp;</span>Idade</a></span></li><li><span><a href=\"#Altura-(elaboração-própria)\" data-toc-modified-id=\"Altura-(elaboração-própria)-2.0.6\"><span class=\"toc-item-num\">2.0.6&nbsp;&nbsp;</span>Altura (elaboração própria)</a></span></li><li><span><a href=\"#UF\" data-toc-modified-id=\"UF-2.0.7\"><span class=\"toc-item-num\">2.0.7&nbsp;&nbsp;</span>UF</a></span></li><li><span><a href=\"#Sexo\" data-toc-modified-id=\"Sexo-2.0.8\"><span class=\"toc-item-num\">2.0.8&nbsp;&nbsp;</span>Sexo</a></span></li><li><span><a href=\"#Anos-de-Estudo\" data-toc-modified-id=\"Anos-de-Estudo-2.0.9\"><span class=\"toc-item-num\">2.0.9&nbsp;&nbsp;</span>Anos de Estudo</a></span></li><li><span><a href=\"#Cor\" data-toc-modified-id=\"Cor-2.0.10\"><span class=\"toc-item-num\">2.0.10&nbsp;&nbsp;</span>Cor</a></span><ul class=\"toc-item\"><li><span><a href=\"#Observação\" data-toc-modified-id=\"Observação-2.0.10.1\"><span class=\"toc-item-num\">2.0.10.1&nbsp;&nbsp;</span><font color=\"red\" data-darkreader-inline-color=\"\" style=\"--darkreader-inline-color:#ff3333;\">Observação</font></a></span></li></ul></li><li><span><a href=\"#Utilize-a-célula-abaixo-para-importar-as-bibliotecas-que-precisar-para-executar-as-tarefas\" data-toc-modified-id=\"Utilize-a-célula-abaixo-para-importar-as-bibliotecas-que-precisar-para-executar-as-tarefas-2.0.11\"><span class=\"toc-item-num\">2.0.11&nbsp;&nbsp;</span>Utilize a célula abaixo para importar as bibliotecas que precisar para executar as tarefas</a></span><ul class=\"toc-item\"><li><span><a href=\"#Sugestões:-pandas,-numpy,-scipy-etc.\" data-toc-modified-id=\"Sugestões:-pandas,-numpy,-scipy-etc.-2.0.11.1\"><span class=\"toc-item-num\">2.0.11.1&nbsp;&nbsp;</span><font color=\"red\" data-darkreader-inline-color=\"\" style=\"--darkreader-inline-color:#ff3333;\">Sugestões: pandas, numpy, scipy etc.</font></a></span></li></ul></li><li><span><a href=\"#Importe-o-dataset-e-armazene-o-conteúdo-em-uma-DataFrame\" data-toc-modified-id=\"Importe-o-dataset-e-armazene-o-conteúdo-em-uma-DataFrame-2.0.12\"><span class=\"toc-item-num\">2.0.12&nbsp;&nbsp;</span>Importe o dataset e armazene o conteúdo em uma DataFrame</a></span></li><li><span><a href=\"#Visualize-o-conteúdo-do-DataFrame\" data-toc-modified-id=\"Visualize-o-conteúdo-do-DataFrame-2.0.13\"><span class=\"toc-item-num\">2.0.13&nbsp;&nbsp;</span>Visualize o conteúdo do DataFrame</a></span></li></ul></li></ul></li><li><span><a href=\"#Problema-A\" data-toc-modified-id=\"Problema-A-3\"><span class=\"toc-item-num\">3&nbsp;&nbsp;</span><font color=\"green\" data-darkreader-inline-color=\"\" style=\"--darkreader-inline-color:#7fff7f;\">Problema A</font></a></span><ul class=\"toc-item\"><li><ul class=\"toc-item\"><li><ul class=\"toc-item\"><li><span><a href=\"#Como-tarefa-extra,-verifique-a-real-proporção-de-homens-e-mulheres-em-nosso-dataset-(vimos-como-fazer-isso-em-nosso-primeiro-curso-de-estatística).\" data-toc-modified-id=\"Como-tarefa-extra,-verifique-a-real-proporção-de-homens-e-mulheres-em-nosso-dataset-(vimos-como-fazer-isso-em-nosso-primeiro-curso-de-estatística).-3.0.0.1\"><span class=\"toc-item-num\">3.0.0.1&nbsp;&nbsp;</span><font color=\"blue\" data-darkreader-inline-color=\"\" style=\"--darkreader-inline-color:#337dff;\">Como tarefa extra, verifique a real proporção de homens e mulheres em nosso dataset (vimos como fazer isso em nosso primeiro curso de estatística).</font></a></span></li><li><span><a href=\"#Verifique-que-tipo-de-distribuição-de-probabilidade-se-encaixa-neste-experimento.\" data-toc-modified-id=\"Verifique-que-tipo-de-distribuição-de-probabilidade-se-encaixa-neste-experimento.-3.0.0.2\"><span class=\"toc-item-num\">3.0.0.2&nbsp;&nbsp;</span><font color=\"red\" data-darkreader-inline-color=\"\" style=\"--darkreader-inline-color:#ff3333;\">Verifique que tipo de distribuição de probabilidade se encaixa neste experimento.</font></a></span></li></ul></li><li><span><a href=\"#Solução\" data-toc-modified-id=\"Solução-3.0.1\"><span class=\"toc-item-num\">3.0.1&nbsp;&nbsp;</span>Solução</a></span></li></ul></li></ul></li><li><span><a href=\"#Problema-B\" data-toc-modified-id=\"Problema-B-4\"><span class=\"toc-item-num\">4&nbsp;&nbsp;</span><font color=\"green\" data-darkreader-inline-color=\"\" style=\"--darkreader-inline-color:#7fff7f;\">Problema B</font></a></span><ul class=\"toc-item\"><li><ul class=\"toc-item\"><li><ul class=\"toc-item\"><li><span><a href=\"#Lembre-se-da-forma-de-cálculo-da-média-de-uma-distribuição-binomial\" data-toc-modified-id=\"Lembre-se-da-forma-de-cálculo-da-média-de-uma-distribuição-binomial-4.0.0.1\"><span class=\"toc-item-num\">4.0.0.1&nbsp;&nbsp;</span><font color=\"red\" data-darkreader-inline-color=\"\" style=\"--darkreader-inline-color:#ff3333;\">Lembre-se da forma de cálculo da média de uma distribuição binomial</font></a></span></li></ul></li><li><span><a href=\"#Solução\" data-toc-modified-id=\"Solução-4.0.1\"><span class=\"toc-item-num\">4.0.1&nbsp;&nbsp;</span>Solução</a></span></li></ul></li></ul></li><li><span><a href=\"#Problema-C\" data-toc-modified-id=\"Problema-C-5\"><span class=\"toc-item-num\">5&nbsp;&nbsp;</span><font color=\"green\" data-darkreader-inline-color=\"\" style=\"--darkreader-inline-color:#7fff7f;\">Problema C</font></a></span></li><li><span><a href=\"#Solução-do-item-1\" data-toc-modified-id=\"Solução-do-item-1-6\"><span class=\"toc-item-num\">6&nbsp;&nbsp;</span><font color=\"blue\" data-darkreader-inline-color=\"\" style=\"--darkreader-inline-color:#337dff;\">Solução do item 1</font></a></span><ul class=\"toc-item\"><li><ul class=\"toc-item\"><li><span><a href=\"#Seleção-de-uma-amostra-aleatório-simples\" data-toc-modified-id=\"Seleção-de-uma-amostra-aleatório-simples-6.0.1\"><span class=\"toc-item-num\">6.0.1&nbsp;&nbsp;</span>Seleção de uma amostra aleatório simples</a></span><ul class=\"toc-item\"><li><span><a href=\"#Lembre-se-de-utilizar-random_state-=-101\" data-toc-modified-id=\"Lembre-se-de-utilizar-random_state-=-101-6.0.1.1\"><span class=\"toc-item-num\">6.0.1.1&nbsp;&nbsp;</span><font color=\"red\" data-darkreader-inline-color=\"\" style=\"--darkreader-inline-color:#ff3333;\">Lembre-se de utilizar <em>random_state = 101</em></font></a></span></li></ul></li><li><span><a href=\"#Dados-do-problema\" data-toc-modified-id=\"Dados-do-problema-6.0.2\"><span class=\"toc-item-num\">6.0.2&nbsp;&nbsp;</span>Dados do problema</a></span></li></ul></li></ul></li><li><span><a href=\"#Solução-do-item-2\" data-toc-modified-id=\"Solução-do-item-2-7\"><span class=\"toc-item-num\">7&nbsp;&nbsp;</span><font color=\"blue\" data-darkreader-inline-color=\"\" style=\"--darkreader-inline-color:#337dff;\">Solução do item 2</font></a></span><ul class=\"toc-item\"><li><ul class=\"toc-item\"><li><span><a href=\"#Obtenha-a-margem-de-erro\" data-toc-modified-id=\"Obtenha-a-margem-de-erro-7.0.1\"><span class=\"toc-item-num\">7.0.1&nbsp;&nbsp;</span>Obtenha a margem de erro</a></span><ul class=\"toc-item\"><li><span><a href=\"#Lembre-se-que-a-margem-de-erro-deve-estar-na-mesma-unidade-da-variável-que-está-sendo-estudada-(R$)\" data-toc-modified-id=\"Lembre-se-que-a-margem-de-erro-deve-estar-na-mesma-unidade-da-variável-que-está-sendo-estudada-(R$)-7.0.1.1\"><span class=\"toc-item-num\">7.0.1.1&nbsp;&nbsp;</span><font color=\"red\" data-darkreader-inline-color=\"\" style=\"--darkreader-inline-color:#ff3333;\">Lembre-se que a margem de erro deve estar na mesma unidade da variável que está sendo estudada (R$)</font></a></span></li></ul></li><li><span><a href=\"#Tamanho-da-amostra-($1---\\alpha-=-90\\%$)\" data-toc-modified-id=\"Tamanho-da-amostra-($1---\\alpha-=-90\\%$)-7.0.2\"><span class=\"toc-item-num\">7.0.2&nbsp;&nbsp;</span>Tamanho da amostra ($1 - \\alpha = 90\\%$)</a></span></li><li><span><a href=\"#Tamanho-da-amostra-($1---\\alpha-=-95\\%$)\" data-toc-modified-id=\"Tamanho-da-amostra-($1---\\alpha-=-95\\%$)-7.0.3\"><span class=\"toc-item-num\">7.0.3&nbsp;&nbsp;</span>Tamanho da amostra ($1 - \\alpha = 95\\%$)</a></span></li><li><span><a href=\"#Tamanho-da-amostra-($1---\\alpha-=-99\\%$)\" data-toc-modified-id=\"Tamanho-da-amostra-($1---\\alpha-=-99\\%$)-7.0.4\"><span class=\"toc-item-num\">7.0.4&nbsp;&nbsp;</span>Tamanho da amostra ($1 - \\alpha = 99\\%$)</a></span></li></ul></li></ul></li><li><span><a href=\"#Solução-do-item-3\" data-toc-modified-id=\"Solução-do-item-3-8\"><span class=\"toc-item-num\">8&nbsp;&nbsp;</span><font color=\"blue\" data-darkreader-inline-color=\"\" style=\"--darkreader-inline-color:#337dff;\">Solução do item 3</font></a></span><ul class=\"toc-item\"><li><ul class=\"toc-item\"><li><span><a href=\"#Custo-da-pesquisa-para-o-nível-de-confiança-de-90%\" data-toc-modified-id=\"Custo-da-pesquisa-para-o-nível-de-confiança-de-90%-8.0.1\"><span class=\"toc-item-num\">8.0.1&nbsp;&nbsp;</span>Custo da pesquisa para o nível de confiança de 90%</a></span></li><li><span><a href=\"#Custo-da-pesquisa-para-o-nível-de-confiança-de-95%\" data-toc-modified-id=\"Custo-da-pesquisa-para-o-nível-de-confiança-de-95%-8.0.2\"><span class=\"toc-item-num\">8.0.2&nbsp;&nbsp;</span>Custo da pesquisa para o nível de confiança de 95%</a></span></li><li><span><a href=\"#Custo-da-pesquisa-para-o-nível-de-confiança-de-99%\" data-toc-modified-id=\"Custo-da-pesquisa-para-o-nível-de-confiança-de-99%-8.0.3\"><span class=\"toc-item-num\">8.0.3&nbsp;&nbsp;</span>Custo da pesquisa para o nível de confiança de 99%</a></span></li></ul></li></ul></li><li><span><a href=\"#Solução-do-item-4\" data-toc-modified-id=\"Solução-do-item-4-9\"><span class=\"toc-item-num\">9&nbsp;&nbsp;</span><font color=\"blue\" data-darkreader-inline-color=\"\" style=\"--darkreader-inline-color:#337dff;\">Solução do item 4</font></a></span></li><li><span><a href=\"#Solução-do-item-5\" data-toc-modified-id=\"Solução-do-item-5-10\"><span class=\"toc-item-num\">10&nbsp;&nbsp;</span><font color=\"blue\" data-darkreader-inline-color=\"\" style=\"--darkreader-inline-color:#337dff;\">Solução do item 5</font></a></span></li><li><span><a href=\"#Solução-do-item-6\" data-toc-modified-id=\"Solução-do-item-6-11\"><span class=\"toc-item-num\">11&nbsp;&nbsp;</span><font color=\"blue\" data-darkreader-inline-color=\"\" style=\"--darkreader-inline-color:#337dff;\">Solução do item 6</font></a></span></li></ul></div>"
   ]
  },
  {
   "cell_type": "markdown",
   "metadata": {
    "colab_type": "text",
    "id": "WvMflodMjQKe"
   },
   "source": [
    "***\n",
    "# <font color=green size=10>CURSO DE ESTATÍSTICA - PARTE 2</font>\n",
    "***\n",
    "\n",
    "## Trabalho sobre Probabilidades, Amostragem e Estimações\n",
    "\n",
    "Utilizando os conhecimentos adquiridos em nosso treinamento execute as tarefas abaixo. Siga o roteiro proposto e vá completando as células vazias."
   ]
  },
  {
   "cell_type": "markdown",
   "metadata": {
    "colab_type": "text",
    "id": "cVgsZ_E3jQKg"
   },
   "source": [
    "# <font color=green>DATASET DO PROJETO</font>\n",
    "***"
   ]
  },
  {
   "cell_type": "markdown",
   "metadata": {
    "colab_type": "text",
    "id": "iN1gIbaKjQKh"
   },
   "source": [
    "### Pesquisa Nacional por Amostra de Domicílios - 2015\n",
    "\n",
    "A <b>Pesquisa Nacional por Amostra de Domicílios - PNAD</b> investiga anualmente, de forma permanente, características gerais da população, de educação, trabalho, rendimento e habitação e outras, com periodicidade variável, de acordo com as necessidades de informação para o país, como as características sobre migração, fecundidade, nupcialidade, saúde, segurança alimentar, entre outros temas. O levantamento dessas estatísticas constitui, ao longo dos 49 anos de realização da pesquisa, um importante instrumento para formulação, validação e avaliação de políticas orientadas para o desenvolvimento socioeconômico e a melhoria das condições de vida no Brasil."
   ]
  },
  {
   "cell_type": "markdown",
   "metadata": {
    "colab_type": "text",
    "id": "U6V7br1RjQKi"
   },
   "source": [
    "### Fonte dos Dados\n",
    "\n",
    "https://ww2.ibge.gov.br/home/estatistica/populacao/trabalhoerendimento/pnad2015/microdados.shtm"
   ]
  },
  {
   "cell_type": "markdown",
   "metadata": {
    "colab_type": "text",
    "id": "r0Fe_qnzjQKj"
   },
   "source": [
    "### Variáveis utilizadas\n",
    "\n",
    "> ### Renda\n",
    "> ***\n",
    "\n",
    "Rendimento mensal do trabalho principal para pessoas de 10 anos ou mais de idade.\n",
    "\n",
    "> ### Idade\n",
    "> ***\n",
    "\n",
    "Idade do morador na data de referência em anos.\n",
    "\n",
    "> ### Altura (elaboração própria)\n",
    "> ***\n",
    "\n",
    "Altura do morador em metros.\n",
    "\n",
    "> ### UF\n",
    "> ***\n",
    "\n",
    "|Código|Descrição|\n",
    "|---|---|\n",
    "|11|Rondônia|\n",
    "|12|Acre|\n",
    "|13|Amazonas|\n",
    "|14|Roraima|\n",
    "|15|Pará|\n",
    "|16|Amapá|\n",
    "|17|Tocantins|\n",
    "|21|Maranhão|\n",
    "|22|Piauí|\n",
    "|23|Ceará|\n",
    "|24|Rio Grande do Norte|\n",
    "|25|Paraíba|\n",
    "|26|Pernambuco|\n",
    "|27|Alagoas|\n",
    "|28|Sergipe|\n",
    "|29|Bahia|\n",
    "|31|Minas Gerais|\n",
    "|32|Espírito Santo|\n",
    "|33|Rio de Janeiro|\n",
    "|35|São Paulo|\n",
    "|41|Paraná|\n",
    "|42|Santa Catarina|\n",
    "|43|Rio Grande do Sul|\n",
    "|50|Mato Grosso do Sul|\n",
    "|51|Mato Grosso|\n",
    "|52|Goiás|\n",
    "|53|Distrito Federal|\n",
    "\n",
    "> ### Sexo\t\n",
    "> ***\n",
    "\n",
    "|Código|Descrição|\n",
    "|---|---|\n",
    "|0|Masculino|\n",
    "|1|Feminino|\n",
    "\n",
    "> ### Anos de Estudo\n",
    "> ***\n",
    "\n",
    "|Código|Descrição|\n",
    "|---|---|\n",
    "|1|Sem instrução e menos de 1 ano|\n",
    "|2|1 ano|\n",
    "|3|2 anos|\n",
    "|4|3 anos|\n",
    "|5|4 anos|\n",
    "|6|5 anos|\n",
    "|7|6 anos|\n",
    "|8|7 anos|\n",
    "|9|8 anos|\n",
    "|10|9 anos|\n",
    "|11|10 anos|\n",
    "|12|11 anos|\n",
    "|13|12 anos|\n",
    "|14|13 anos|\n",
    "|15|14 anos|\n",
    "|16|15 anos ou mais|\n",
    "|17|Não determinados| \n",
    "||Não aplicável|\n",
    "\n",
    "> ### Cor\n",
    "> ***\n",
    "\n",
    "|Código|Descrição|\n",
    "|---|---|\n",
    "|0|Indígena|\n",
    "|2|Branca|\n",
    "|4|Preta|\n",
    "|6|Amarela|\n",
    "|8|Parda|\n",
    "|9|Sem declaração|"
   ]
  },
  {
   "cell_type": "markdown",
   "metadata": {
    "colab_type": "text",
    "id": "OK1IQH5cX7Gb"
   },
   "source": [
    "#### <font color='red'>Observação</font>\n",
    "***\n",
    "> Os seguintes tratamentos foram realizados nos dados originais:\n",
    "> 1. Foram eliminados os registros onde a <b>Renda</b> era inválida (999 999 999 999);\n",
    "> 2. Foram eliminados os registros onde a <b>Renda</b> era missing;\n",
    "> 3. Foram considerados somente os registros das <b>Pessoas de Referência</b> de cada domicílio (responsável pelo domicílio)."
   ]
  },
  {
   "cell_type": "markdown",
   "metadata": {
    "colab_type": "text",
    "id": "ZIqLOffNTg1Y"
   },
   "source": [
    "***\n",
    "***"
   ]
  },
  {
   "cell_type": "markdown",
   "metadata": {
    "colab_type": "text",
    "id": "8Rw70V6ojQKk"
   },
   "source": [
    "### Utilize a célula abaixo para importar as bibliotecas que precisar para executar as tarefas\n",
    "#### <font color='red'>Sugestões: pandas, numpy, scipy etc.</font>"
   ]
  },
  {
   "cell_type": "code",
   "execution_count": 1,
   "metadata": {
    "colab": {},
    "colab_type": "code",
    "id": "itHvj-WRKa86"
   },
   "outputs": [],
   "source": [
    "import pandas as pd\n",
    "import numpy as np"
   ]
  },
  {
   "cell_type": "markdown",
   "metadata": {
    "colab_type": "text",
    "id": "2a-gvBvCULwt"
   },
   "source": [
    "### Importe o dataset e armazene o conteúdo em uma DataFrame"
   ]
  },
  {
   "cell_type": "code",
   "execution_count": 3,
   "metadata": {
    "colab": {},
    "colab_type": "code",
    "id": "ufRZ7TLwjQKo"
   },
   "outputs": [
    {
     "data": {
      "text/plain": [
       "(76840, 7)"
      ]
     },
     "execution_count": 3,
     "metadata": {},
     "output_type": "execute_result"
    }
   ],
   "source": [
    "dados = pd.read_csv('dados.csv')\n",
    "dados.shape"
   ]
  },
  {
   "cell_type": "markdown",
   "metadata": {
    "colab_type": "text",
    "id": "Oq3CKHCmTg1j"
   },
   "source": [
    "### Visualize o conteúdo do DataFrame"
   ]
  },
  {
   "cell_type": "code",
   "execution_count": 4,
   "metadata": {
    "colab": {},
    "colab_type": "code",
    "id": "GsC_WhLFjQKq",
    "scrolled": true
   },
   "outputs": [
    {
     "data": {
      "text/html": [
       "<div>\n",
       "<style scoped>\n",
       "    .dataframe tbody tr th:only-of-type {\n",
       "        vertical-align: middle;\n",
       "    }\n",
       "\n",
       "    .dataframe tbody tr th {\n",
       "        vertical-align: top;\n",
       "    }\n",
       "\n",
       "    .dataframe thead th {\n",
       "        text-align: right;\n",
       "    }\n",
       "</style>\n",
       "<table border=\"1\" class=\"dataframe\">\n",
       "  <thead>\n",
       "    <tr style=\"text-align: right;\">\n",
       "      <th></th>\n",
       "      <th>UF</th>\n",
       "      <th>Sexo</th>\n",
       "      <th>Idade</th>\n",
       "      <th>Cor</th>\n",
       "      <th>Anos de Estudo</th>\n",
       "      <th>Renda</th>\n",
       "      <th>Altura</th>\n",
       "    </tr>\n",
       "  </thead>\n",
       "  <tbody>\n",
       "    <tr>\n",
       "      <th>0</th>\n",
       "      <td>11</td>\n",
       "      <td>0</td>\n",
       "      <td>23</td>\n",
       "      <td>8</td>\n",
       "      <td>12</td>\n",
       "      <td>800</td>\n",
       "      <td>1.603808</td>\n",
       "    </tr>\n",
       "    <tr>\n",
       "      <th>1</th>\n",
       "      <td>11</td>\n",
       "      <td>1</td>\n",
       "      <td>23</td>\n",
       "      <td>2</td>\n",
       "      <td>12</td>\n",
       "      <td>1150</td>\n",
       "      <td>1.739790</td>\n",
       "    </tr>\n",
       "    <tr>\n",
       "      <th>2</th>\n",
       "      <td>11</td>\n",
       "      <td>1</td>\n",
       "      <td>35</td>\n",
       "      <td>8</td>\n",
       "      <td>15</td>\n",
       "      <td>880</td>\n",
       "      <td>1.760444</td>\n",
       "    </tr>\n",
       "    <tr>\n",
       "      <th>3</th>\n",
       "      <td>11</td>\n",
       "      <td>0</td>\n",
       "      <td>46</td>\n",
       "      <td>2</td>\n",
       "      <td>6</td>\n",
       "      <td>3500</td>\n",
       "      <td>1.783158</td>\n",
       "    </tr>\n",
       "    <tr>\n",
       "      <th>4</th>\n",
       "      <td>11</td>\n",
       "      <td>1</td>\n",
       "      <td>47</td>\n",
       "      <td>8</td>\n",
       "      <td>9</td>\n",
       "      <td>150</td>\n",
       "      <td>1.690631</td>\n",
       "    </tr>\n",
       "  </tbody>\n",
       "</table>\n",
       "</div>"
      ],
      "text/plain": [
       "   UF  Sexo  Idade  Cor  Anos de Estudo  Renda    Altura\n",
       "0  11     0     23    8              12    800  1.603808\n",
       "1  11     1     23    2              12   1150  1.739790\n",
       "2  11     1     35    8              15    880  1.760444\n",
       "3  11     0     46    2               6   3500  1.783158\n",
       "4  11     1     47    8               9    150  1.690631"
      ]
     },
     "execution_count": 4,
     "metadata": {},
     "output_type": "execute_result"
    }
   ],
   "source": [
    "dados.head()"
   ]
  },
  {
   "cell_type": "markdown",
   "metadata": {
    "colab_type": "text",
    "id": "Aa401USPKa9H"
   },
   "source": [
    "# <font color='green'>Problema A</font>"
   ]
  },
  {
   "cell_type": "markdown",
   "metadata": {
    "colab_type": "text",
    "id": "yUQqpvW6Ka9I"
   },
   "source": [
    "Avaliando nosso dataset é possível verificar que a **proporção de homens** como chefes de domicílios é de quase **70%**. Precisamos **selecionar aleatoriamente grupos de 10 indivíduos** para verificar as diferenças entre os rendimentos em cada grupo. Qual a **probabilidade de selecionamos um grupo que apresente a mesma proporção da população**, ou seja, selecionarmos um grupo que seja **composto por 7 homens e 3 mulheres**?\n",
    "\n",
    "#### <font color='blue'>Como tarefa extra, verifique a real proporção de homens e mulheres em nosso dataset (vimos como fazer isso em nosso primeiro curso de estatística).</font>\n",
    "\n",
    "#### <font color='red'>Verifique que tipo de distribuição de probabilidade se encaixa neste experimento.</font>"
   ]
  },
  {
   "cell_type": "markdown",
   "metadata": {
    "colab_type": "text",
    "id": "sD1EHuhrKa9I"
   },
   "source": [
    "### Solução"
   ]
  },
  {
   "cell_type": "code",
   "execution_count": 8,
   "metadata": {
    "colab": {},
    "colab_type": "code",
    "id": "lbDcyHPTKa9J"
   },
   "outputs": [
    {
     "data": {
      "text/plain": [
       "0.6929984383133785"
      ]
     },
     "execution_count": 8,
     "metadata": {},
     "output_type": "execute_result"
    }
   ],
   "source": [
    "# Percentual de Homens\n",
    "probabilidade_h = dados.Sexo.value_counts(normalize=True)[0]\n",
    "probabilidade_h"
   ]
  },
  {
   "cell_type": "code",
   "execution_count": 9,
   "metadata": {
    "colab": {},
    "colab_type": "code",
    "id": "0_4L_QOnKa9L"
   },
   "outputs": [],
   "source": [
    "from scipy.stats import binom"
   ]
  },
  {
   "cell_type": "code",
   "execution_count": 10,
   "metadata": {
    "colab": {},
    "colab_type": "code",
    "id": "rl7sfPTYKa9N"
   },
   "outputs": [],
   "source": [
    "k = 7\n",
    "n = 10\n",
    "p = probabilidade_h"
   ]
  },
  {
   "cell_type": "code",
   "execution_count": 11,
   "metadata": {
    "colab": {},
    "colab_type": "code",
    "id": "2LQ5lVzoKa9P"
   },
   "outputs": [
    {
     "data": {
      "text/plain": [
       "0.2665193783299737"
      ]
     },
     "execution_count": 11,
     "metadata": {},
     "output_type": "execute_result"
    }
   ],
   "source": [
    "probabilidade = binom.pmf(k,n,p)\n",
    "probabilidade"
   ]
  },
  {
   "cell_type": "markdown",
   "metadata": {
    "colab_type": "text",
    "id": "xhpA2dSYKa9R"
   },
   "source": [
    "# <font color='green'>Problema B</font>"
   ]
  },
  {
   "cell_type": "markdown",
   "metadata": {
    "colab_type": "text",
    "id": "fSu7XWKnKa9S"
   },
   "source": [
    "Ainda sobre a questão anterior, **quantos grupos de 10 indivíduos** nós precisaríamos selecionar, de forma aleatória, para conseguir **100 grupos compostos por 7 homens e 3 mulheres**?\n",
    "\n",
    "#### <font color='red'>Lembre-se da forma de cálculo da média de uma distribuição binomial</font>"
   ]
  },
  {
   "cell_type": "markdown",
   "metadata": {
    "colab_type": "text",
    "id": "Q3wWq7z2Ka9S"
   },
   "source": [
    "### Solução"
   ]
  },
  {
   "cell_type": "code",
   "execution_count": 15,
   "metadata": {
    "colab": {},
    "colab_type": "code",
    "id": "F27eIYXzKa9T"
   },
   "outputs": [
    {
     "data": {
      "text/plain": [
       "375"
      ]
     },
     "execution_count": 15,
     "metadata": {},
     "output_type": "execute_result"
    }
   ],
   "source": [
    "# media = n*p\n",
    "n = 100/probabilidade\n",
    "int(n.round())"
   ]
  },
  {
   "cell_type": "markdown",
   "metadata": {
    "colab_type": "text",
    "id": "5OKBEMUNKa9V"
   },
   "source": [
    "# <font color='green'>Problema C</font>"
   ]
  },
  {
   "cell_type": "markdown",
   "metadata": {
    "colab_type": "text",
    "id": "xEpjzbwBKa9W"
   },
   "source": [
    "Um cliente nos encomendou um estudo para avaliar o **rendimento dos chefes de domicílio no Brasil**. Para isso precisamos realizar uma nova coleta de dados, isto é, uma nova pesquisa de campo. Após reunião com o cliente foi possível elencar o seguinte conjunto de informações:\n",
    "\n",
    "> A. O resultado da pesquisa precisa estar pronto em **2 meses**;\n",
    "\n",
    "> B. Teremos somente **R$\\$$ 150.000,00** de recursos para realização da pesquisa de campo; e\n",
    "    \n",
    "> C. Seria interessante uma **margem de erro não superior a 10% em relação a média estimada**.\n",
    "\n",
    "Em nossa experiência com estudos deste tipo, sabemos que o **custo médio por indivíduo entrevistado fica em torno de R$\\$$ 100,00**. Com este conjunto de fatos avalie e obtenha o seguinte conjunto de informações para passar ao cliente:\n",
    "\n",
    "\n",
    "> 1. Para obter uma estimativa para os parâmetros da população (renda dos chefes de domicílio no Brasil), realize uma amostragem aleatória simples em nosso conjunto de dados. Essa amostra deve conter 200 elementos (utilize random_state = 101 para garantir que o mesmo experimento posso ser realizado novamente). Obtenha a média e o desvio-padrão dessa amostra.\n",
    "    \n",
    "> 2. Para a **margem de erro** especificada pelo cliente obtenha os **tamanhos de amostra** necessários para garantir os **níveis de confiança de 90%, 95% e 99%**.\n",
    "    \n",
    "> 3. Obtenha o **custo da pesquisa** para os três níveis de confiança.\n",
    "    \n",
    "> 4. Para o maior nível de confiança viável (dentro do orçamento disponível), obtenha um **intervalo de confiança para a média da população**.\n",
    "    \n",
    "> 5. Assumindo o **nível de confiança escolhido no item anterior**, qual **margem de erro** pode ser considerada utilizando todo o recurso disponibilizado pelo cliente?\n",
    "    \n",
    "> 6. Assumindo um **nível de confiança de 95%**, **quanto a pesquisa custaria ao cliente** caso fosse considerada uma **margem de erro de apenas 5%** em relação a média estimada?\n"
   ]
  },
  {
   "cell_type": "markdown",
   "metadata": {
    "colab_type": "text",
    "id": "m4qMQ4kdKa9W"
   },
   "source": [
    "# <font color='blue'>Solução do item 1</font>"
   ]
  },
  {
   "cell_type": "markdown",
   "metadata": {
    "colab_type": "text",
    "id": "fNb4Yb3RKa9X"
   },
   "source": [
    "### Seleção de uma amostra aleatório simples\n",
    "\n",
    "#### <font color='red'>Lembre-se de utilizar *random_state = 101*</font>"
   ]
  },
  {
   "cell_type": "code",
   "execution_count": 16,
   "metadata": {
    "colab": {},
    "colab_type": "code",
    "id": "_HxUH0AhKa9X"
   },
   "outputs": [
    {
     "data": {
      "text/html": [
       "<div>\n",
       "<style scoped>\n",
       "    .dataframe tbody tr th:only-of-type {\n",
       "        vertical-align: middle;\n",
       "    }\n",
       "\n",
       "    .dataframe tbody tr th {\n",
       "        vertical-align: top;\n",
       "    }\n",
       "\n",
       "    .dataframe thead th {\n",
       "        text-align: right;\n",
       "    }\n",
       "</style>\n",
       "<table border=\"1\" class=\"dataframe\">\n",
       "  <thead>\n",
       "    <tr style=\"text-align: right;\">\n",
       "      <th></th>\n",
       "      <th>UF</th>\n",
       "      <th>Sexo</th>\n",
       "      <th>Idade</th>\n",
       "      <th>Cor</th>\n",
       "      <th>Anos de Estudo</th>\n",
       "      <th>Renda</th>\n",
       "      <th>Altura</th>\n",
       "    </tr>\n",
       "  </thead>\n",
       "  <tbody>\n",
       "    <tr>\n",
       "      <th>29042</th>\n",
       "      <td>29</td>\n",
       "      <td>0</td>\n",
       "      <td>39</td>\n",
       "      <td>8</td>\n",
       "      <td>5</td>\n",
       "      <td>480</td>\n",
       "      <td>1.719128</td>\n",
       "    </tr>\n",
       "    <tr>\n",
       "      <th>62672</th>\n",
       "      <td>43</td>\n",
       "      <td>0</td>\n",
       "      <td>55</td>\n",
       "      <td>2</td>\n",
       "      <td>6</td>\n",
       "      <td>250</td>\n",
       "      <td>1.639205</td>\n",
       "    </tr>\n",
       "    <tr>\n",
       "      <th>29973</th>\n",
       "      <td>29</td>\n",
       "      <td>1</td>\n",
       "      <td>36</td>\n",
       "      <td>2</td>\n",
       "      <td>12</td>\n",
       "      <td>788</td>\n",
       "      <td>1.654122</td>\n",
       "    </tr>\n",
       "    <tr>\n",
       "      <th>22428</th>\n",
       "      <td>26</td>\n",
       "      <td>0</td>\n",
       "      <td>46</td>\n",
       "      <td>8</td>\n",
       "      <td>8</td>\n",
       "      <td>1680</td>\n",
       "      <td>1.622450</td>\n",
       "    </tr>\n",
       "    <tr>\n",
       "      <th>55145</th>\n",
       "      <td>41</td>\n",
       "      <td>0</td>\n",
       "      <td>37</td>\n",
       "      <td>2</td>\n",
       "      <td>9</td>\n",
       "      <td>2500</td>\n",
       "      <td>1.625268</td>\n",
       "    </tr>\n",
       "    <tr>\n",
       "      <th>...</th>\n",
       "      <td>...</td>\n",
       "      <td>...</td>\n",
       "      <td>...</td>\n",
       "      <td>...</td>\n",
       "      <td>...</td>\n",
       "      <td>...</td>\n",
       "      <td>...</td>\n",
       "    </tr>\n",
       "    <tr>\n",
       "      <th>50497</th>\n",
       "      <td>35</td>\n",
       "      <td>0</td>\n",
       "      <td>39</td>\n",
       "      <td>2</td>\n",
       "      <td>12</td>\n",
       "      <td>3400</td>\n",
       "      <td>1.736021</td>\n",
       "    </tr>\n",
       "    <tr>\n",
       "      <th>3668</th>\n",
       "      <td>13</td>\n",
       "      <td>1</td>\n",
       "      <td>66</td>\n",
       "      <td>8</td>\n",
       "      <td>1</td>\n",
       "      <td>780</td>\n",
       "      <td>1.753201</td>\n",
       "    </tr>\n",
       "    <tr>\n",
       "      <th>4872</th>\n",
       "      <td>14</td>\n",
       "      <td>1</td>\n",
       "      <td>46</td>\n",
       "      <td>8</td>\n",
       "      <td>12</td>\n",
       "      <td>1000</td>\n",
       "      <td>1.783724</td>\n",
       "    </tr>\n",
       "    <tr>\n",
       "      <th>38670</th>\n",
       "      <td>31</td>\n",
       "      <td>0</td>\n",
       "      <td>53</td>\n",
       "      <td>8</td>\n",
       "      <td>12</td>\n",
       "      <td>1000</td>\n",
       "      <td>1.753985</td>\n",
       "    </tr>\n",
       "    <tr>\n",
       "      <th>71730</th>\n",
       "      <td>52</td>\n",
       "      <td>1</td>\n",
       "      <td>47</td>\n",
       "      <td>4</td>\n",
       "      <td>9</td>\n",
       "      <td>600</td>\n",
       "      <td>1.667561</td>\n",
       "    </tr>\n",
       "  </tbody>\n",
       "</table>\n",
       "<p>200 rows × 7 columns</p>\n",
       "</div>"
      ],
      "text/plain": [
       "       UF  Sexo  Idade  Cor  Anos de Estudo  Renda    Altura\n",
       "29042  29     0     39    8               5    480  1.719128\n",
       "62672  43     0     55    2               6    250  1.639205\n",
       "29973  29     1     36    2              12    788  1.654122\n",
       "22428  26     0     46    8               8   1680  1.622450\n",
       "55145  41     0     37    2               9   2500  1.625268\n",
       "...    ..   ...    ...  ...             ...    ...       ...\n",
       "50497  35     0     39    2              12   3400  1.736021\n",
       "3668   13     1     66    8               1    780  1.753201\n",
       "4872   14     1     46    8              12   1000  1.783724\n",
       "38670  31     0     53    8              12   1000  1.753985\n",
       "71730  52     1     47    4               9    600  1.667561\n",
       "\n",
       "[200 rows x 7 columns]"
      ]
     },
     "execution_count": 16,
     "metadata": {},
     "output_type": "execute_result"
    }
   ],
   "source": [
    "amostra = dados.sample(n = 200, random_state = 101)\n",
    "amostra"
   ]
  },
  {
   "cell_type": "code",
   "execution_count": 17,
   "metadata": {
    "colab": {},
    "colab_type": "code",
    "id": "fJBYID7pKa9Z"
   },
   "outputs": [
    {
     "data": {
      "text/plain": [
       "1964.205"
      ]
     },
     "execution_count": 17,
     "metadata": {},
     "output_type": "execute_result"
    }
   ],
   "source": [
    "media_amostral = amostra.Renda.mean()\n",
    "media_amostral"
   ]
  },
  {
   "cell_type": "code",
   "execution_count": 18,
   "metadata": {
    "colab": {},
    "colab_type": "code",
    "id": "BXkTyV07Ka9c"
   },
   "outputs": [
    {
     "data": {
      "text/plain": [
       "3139.8855167452157"
      ]
     },
     "execution_count": 18,
     "metadata": {},
     "output_type": "execute_result"
    }
   ],
   "source": [
    "desvio_padrao_amostral = amostra.Renda.std()\n",
    "desvio_padrao_amostral"
   ]
  },
  {
   "cell_type": "markdown",
   "metadata": {
    "colab_type": "text",
    "id": "waULC4fmKa9i"
   },
   "source": [
    "# <font color='blue'>Solução do item 2</font>"
   ]
  },
  {
   "cell_type": "markdown",
   "metadata": {
    "colab_type": "text",
    "id": "dIFt1F2AKa9i"
   },
   "source": [
    "### Obtenha a margem de erro\n",
    "\n",
    "#### <font color='red'>Lembre-se que a margem de erro deve estar na mesma unidade da variável que está sendo estudada (R$)</font>"
   ]
  },
  {
   "cell_type": "code",
   "execution_count": 23,
   "metadata": {
    "colab": {},
    "colab_type": "code",
    "id": "m5s5DvDuKa9j"
   },
   "outputs": [
    {
     "data": {
      "text/plain": [
       "196.4205"
      ]
     },
     "execution_count": 23,
     "metadata": {},
     "output_type": "execute_result"
    }
   ],
   "source": [
    "# A margem de erro deve estar na mesma unidade de media das outras variáveis\n",
    "e = media_amostral*0.1\n",
    "e"
   ]
  },
  {
   "cell_type": "markdown",
   "metadata": {
    "colab_type": "text",
    "id": "pLoYC--IKa9l"
   },
   "source": [
    "### Tamanho da amostra ($1 - \\alpha = 90\\%$)"
   ]
  },
  {
   "cell_type": "markdown",
   "metadata": {
    "colab": {},
    "colab_type": "code",
    "id": "-BteoZ6JKa9m"
   },
   "source": [
    "$$n = \\left(z\\frac{\\sigma}{e}\\right)^2$$"
   ]
  },
  {
   "cell_type": "code",
   "execution_count": 20,
   "metadata": {
    "colab": {},
    "colab_type": "code",
    "id": "2d8PcF9iKa9o",
    "outputId": "8c21a0d7-43c3-4f68-b166-072cb5f19c0f"
   },
   "outputs": [],
   "source": [
    "from scipy.stats import norm"
   ]
  },
  {
   "cell_type": "code",
   "execution_count": 40,
   "metadata": {},
   "outputs": [
    {
     "data": {
      "text/plain": [
       "1.6448536269514722"
      ]
     },
     "execution_count": 40,
     "metadata": {},
     "output_type": "execute_result"
    }
   ],
   "source": [
    "z = norm.ppf(0.95)\n",
    "z"
   ]
  },
  {
   "cell_type": "code",
   "execution_count": 41,
   "metadata": {},
   "outputs": [
    {
     "data": {
      "text/plain": [
       "3139.8855167452157"
      ]
     },
     "execution_count": 41,
     "metadata": {},
     "output_type": "execute_result"
    }
   ],
   "source": [
    "desvio_padrao_amostral"
   ]
  },
  {
   "cell_type": "code",
   "execution_count": 42,
   "metadata": {},
   "outputs": [
    {
     "data": {
      "text/plain": [
       "196.4205"
      ]
     },
     "execution_count": 42,
     "metadata": {},
     "output_type": "execute_result"
    }
   ],
   "source": [
    "e"
   ]
  },
  {
   "cell_type": "code",
   "execution_count": 44,
   "metadata": {},
   "outputs": [
    {
     "data": {
      "text/plain": [
       "691"
      ]
     },
     "execution_count": 44,
     "metadata": {},
     "output_type": "execute_result"
    }
   ],
   "source": [
    "n1 = (z*(desvio_padrao_amostral/e))**2\n",
    "int(n1.round())"
   ]
  },
  {
   "cell_type": "markdown",
   "metadata": {
    "colab_type": "text",
    "id": "brh0CpeSKa9q"
   },
   "source": [
    "### Tamanho da amostra ($1 - \\alpha = 95\\%$)"
   ]
  },
  {
   "cell_type": "code",
   "execution_count": 45,
   "metadata": {
    "colab": {},
    "colab_type": "code",
    "id": "8NtV47kVKa9q"
   },
   "outputs": [
    {
     "data": {
      "text/plain": [
       "1.959963984540054"
      ]
     },
     "execution_count": 45,
     "metadata": {},
     "output_type": "execute_result"
    }
   ],
   "source": [
    "z = norm.ppf(0.975)\n",
    "z"
   ]
  },
  {
   "cell_type": "code",
   "execution_count": 46,
   "metadata": {
    "colab": {},
    "colab_type": "code",
    "id": "keyN_N8xKa9w"
   },
   "outputs": [
    {
     "data": {
      "text/plain": [
       "982"
      ]
     },
     "execution_count": 46,
     "metadata": {},
     "output_type": "execute_result"
    }
   ],
   "source": [
    "n2 = (z*(desvio_padrao_amostral/e))**2\n",
    "int(n2.round())"
   ]
  },
  {
   "cell_type": "markdown",
   "metadata": {
    "colab_type": "text",
    "id": "rAEX9_qFKa9y"
   },
   "source": [
    "### Tamanho da amostra ($1 - \\alpha = 99\\%$)"
   ]
  },
  {
   "cell_type": "code",
   "execution_count": 47,
   "metadata": {
    "colab": {},
    "colab_type": "code",
    "id": "dvFHNFsLKa9y"
   },
   "outputs": [
    {
     "data": {
      "text/plain": [
       "2.5758293035489004"
      ]
     },
     "execution_count": 47,
     "metadata": {},
     "output_type": "execute_result"
    }
   ],
   "source": [
    "z = norm.ppf(0.995)\n",
    "z"
   ]
  },
  {
   "cell_type": "code",
   "execution_count": 48,
   "metadata": {
    "colab": {},
    "colab_type": "code",
    "id": "eTCtwDw_Ka90"
   },
   "outputs": [
    {
     "data": {
      "text/plain": [
       "1695"
      ]
     },
     "execution_count": 48,
     "metadata": {},
     "output_type": "execute_result"
    }
   ],
   "source": [
    "n3 = (z*(desvio_padrao_amostral/e))**2\n",
    "int(n3.round())"
   ]
  },
  {
   "cell_type": "markdown",
   "metadata": {
    "colab_type": "text",
    "id": "n3dILIrGKa93"
   },
   "source": [
    "# <font color='blue'>Solução do item 3</font>"
   ]
  },
  {
   "cell_type": "markdown",
   "metadata": {
    "colab_type": "text",
    "id": "SzkxkOB6Ka93"
   },
   "source": [
    "### Custo da pesquisa para o nível de confiança de 90%"
   ]
  },
  {
   "cell_type": "code",
   "execution_count": 77,
   "metadata": {
    "colab": {},
    "colab_type": "code",
    "id": "j_0BpUBMKa95"
   },
   "outputs": [
    {
     "name": "stdout",
     "output_type": "stream",
     "text": [
      "R$ 69136.68\n"
     ]
    }
   ],
   "source": [
    "c1 = 100 * n1\n",
    "print('R$',float(c1.round(2)))"
   ]
  },
  {
   "cell_type": "markdown",
   "metadata": {
    "colab_type": "text",
    "id": "DdoUIGXkKa97"
   },
   "source": [
    "### Custo da pesquisa para o nível de confiança de 95%"
   ]
  },
  {
   "cell_type": "code",
   "execution_count": 56,
   "metadata": {
    "colab": {},
    "colab_type": "code",
    "id": "R4YQV7_EKa97"
   },
   "outputs": [
    {
     "name": "stdout",
     "output_type": "stream",
     "text": [
      "R$ 98163.53\n"
     ]
    }
   ],
   "source": [
    "c2 = 100 * n2\n",
    "print('R$',float(c2.round(2)))"
   ]
  },
  {
   "cell_type": "markdown",
   "metadata": {
    "colab_type": "text",
    "id": "f4SppXkOKa9-"
   },
   "source": [
    "### Custo da pesquisa para o nível de confiança de 99%"
   ]
  },
  {
   "cell_type": "code",
   "execution_count": 58,
   "metadata": {
    "colab": {},
    "colab_type": "code",
    "id": "7fZucTJIKa9-"
   },
   "outputs": [
    {
     "name": "stdout",
     "output_type": "stream",
     "text": [
      "R$ 169546.24\n"
     ]
    }
   ],
   "source": [
    "c3 = 100 * n3\n",
    "print('R$',float(c3.round(2)))"
   ]
  },
  {
   "cell_type": "markdown",
   "metadata": {
    "colab_type": "text",
    "id": "0HVhFFfMKa-A"
   },
   "source": [
    "# <font color='blue'>Solução do item 4</font>"
   ]
  },
  {
   "cell_type": "code",
   "execution_count": 79,
   "metadata": {
    "colab": {},
    "colab_type": "code",
    "id": "uTePzAGQKa-B"
   },
   "outputs": [
    {
     "data": {
      "text/plain": [
       "(1767.7845, 2160.6255)"
      ]
     },
     "execution_count": 79,
     "metadata": {},
     "output_type": "execute_result"
    }
   ],
   "source": [
    "norm.interval(alpha = 0.95, loc = media_amostral, scale = desvio_padrao_amostral/np.sqrt(n2))"
   ]
  },
  {
   "cell_type": "markdown",
   "metadata": {
    "colab_type": "text",
    "id": "n8uxkOcPKa-D"
   },
   "source": [
    "# <font color='blue'>Solução do item 5</font>"
   ]
  },
  {
   "cell_type": "code",
   "execution_count": 61,
   "metadata": {
    "colab": {},
    "colab_type": "code",
    "id": "AaGOyW4pKa-E"
   },
   "outputs": [
    {
     "data": {
      "text/plain": [
       "1500.0"
      ]
     },
     "execution_count": 61,
     "metadata": {},
     "output_type": "execute_result"
    }
   ],
   "source": [
    "n4 = 150000/100\n",
    "n4"
   ]
  },
  {
   "cell_type": "code",
   "execution_count": 62,
   "metadata": {
    "colab": {},
    "colab_type": "code",
    "id": "31angNvBKa-G"
   },
   "outputs": [
    {
     "data": {
      "text/plain": [
       "1.959963984540054"
      ]
     },
     "execution_count": 62,
     "metadata": {},
     "output_type": "execute_result"
    }
   ],
   "source": [
    "z = norm.ppf(0.975)\n",
    "z"
   ]
  },
  {
   "cell_type": "code",
   "execution_count": 81,
   "metadata": {
    "colab": {},
    "colab_type": "code",
    "id": "SMIRTmytKa-I"
   },
   "outputs": [
    {
     "data": {
      "text/plain": [
       "158.89721122673737"
      ]
     },
     "execution_count": 81,
     "metadata": {},
     "output_type": "execute_result"
    }
   ],
   "source": [
    "e = (z*(desvio_padrao_amostral/np.sqrt(n4)))\n",
    "e"
   ]
  },
  {
   "cell_type": "code",
   "execution_count": 82,
   "metadata": {},
   "outputs": [
    {
     "data": {
      "text/plain": [
       "8.089644982409544"
      ]
     },
     "execution_count": 82,
     "metadata": {},
     "output_type": "execute_result"
    }
   ],
   "source": [
    "# Novo erro percentual\n",
    "e_percentual = e/media_amostral\n",
    "e_percentual*100"
   ]
  },
  {
   "cell_type": "markdown",
   "metadata": {
    "colab_type": "text",
    "id": "ood3yi8mKa-K"
   },
   "source": [
    "# <font color='blue'>Solução do item 6</font>"
   ]
  },
  {
   "cell_type": "code",
   "execution_count": 66,
   "metadata": {
    "colab": {},
    "colab_type": "code",
    "id": "U0f55DxHKa-K"
   },
   "outputs": [
    {
     "data": {
      "text/plain": [
       "98.21025"
      ]
     },
     "execution_count": 66,
     "metadata": {},
     "output_type": "execute_result"
    }
   ],
   "source": [
    "e = 0.05 * media_amostral\n",
    "e"
   ]
  },
  {
   "cell_type": "code",
   "execution_count": 67,
   "metadata": {
    "colab": {},
    "colab_type": "code",
    "id": "c81OsbN1Ka-R"
   },
   "outputs": [
    {
     "data": {
      "text/plain": [
       "1.959963984540054"
      ]
     },
     "execution_count": 67,
     "metadata": {},
     "output_type": "execute_result"
    }
   ],
   "source": [
    "z = norm.ppf(0.975)\n",
    "z"
   ]
  },
  {
   "cell_type": "code",
   "execution_count": 68,
   "metadata": {
    "colab": {},
    "colab_type": "code",
    "id": "PDt0rtCZKa-M"
   },
   "outputs": [
    {
     "data": {
      "text/plain": [
       "3927"
      ]
     },
     "execution_count": 68,
     "metadata": {},
     "output_type": "execute_result"
    }
   ],
   "source": [
    "n5 = (z*(desvio_padrao_amostral/e))**2\n",
    "n5 = int(n5.round())\n",
    "n5"
   ]
  },
  {
   "cell_type": "code",
   "execution_count": 74,
   "metadata": {
    "colab": {},
    "colab_type": "code",
    "id": "emcgxVCIKa-T"
   },
   "outputs": [
    {
     "name": "stdout",
     "output_type": "stream",
     "text": [
      "R$ 392700\n"
     ]
    }
   ],
   "source": [
    "c5 = 100 * n5\n",
    "print('R$',(c5))"
   ]
  }
 ],
 "metadata": {
  "colab": {
   "name": "Estimativas.ipynb",
   "provenance": [],
   "toc_visible": true,
   "version": "0.3.2"
  },
  "kernelspec": {
   "display_name": "Python 3",
   "language": "python",
   "name": "python3"
  },
  "language_info": {
   "codemirror_mode": {
    "name": "ipython",
    "version": 3
   },
   "file_extension": ".py",
   "mimetype": "text/x-python",
   "name": "python",
   "nbconvert_exporter": "python",
   "pygments_lexer": "ipython3",
   "version": "3.7.4"
  },
  "toc": {
   "base_numbering": 1,
   "nav_menu": {},
   "number_sections": true,
   "sideBar": true,
   "skip_h1_title": false,
   "title_cell": "Table of Contents",
   "title_sidebar": "Contents",
   "toc_cell": true,
   "toc_position": {},
   "toc_section_display": true,
   "toc_window_display": false
  }
 },
 "nbformat": 4,
 "nbformat_minor": 1
}
